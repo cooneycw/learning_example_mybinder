{
 "cells": [
  {
   "cell_type": "markdown",
   "metadata": {},
   "source": [
    "# Data Exploration\n",
    "\n",
    "This notebook imports and explores two datasets:\n",
    "1. Spotify data\n",
    "2. NBA statistics"
   ]
  },
  {
   "cell_type": "code",
   "execution_count": null,
   "metadata": {},
   "outputs": [],
   "source": [
    "import pandas as pd"
   ]
  },
  {
   "cell_type": "markdown",
   "metadata": {},
   "source": [
    "## Loading the Data\n",
    "\n",
    "We'll fetch the data directly from GitHub gists."
   ]
  },
  {
   "cell_type": "code",
   "execution_count": null,
   "metadata": {},
   "outputs": [],
   "source": [
    "url_spotify = \"https://gist.githubusercontent.com/cooneycw/b4021d5d872ee4a07239f0ea25c23cd7/raw/spotify_data.csv\"\n",
    "url_nba_stats = \"https://gist.githubusercontent.com/cooneycw/a90ce2c2adf1208cfc6359c4fa83d928/raw/nba_stats.csv\"\n",
    "\n",
    "# Read the CSV directly into pandas DataFrames\n",
    "df_spotify = pd.read_csv(url_spotify)\n",
    "df_nba_stats = pd.read_csv(url_nba_stats)"
   ]
  },
  {
   "cell_type": "markdown",
   "metadata": {},
   "source": [
    "## Exploring Spotify Data"
   ]
  },
  {
   "cell_type": "code",
   "execution_count": null,
   "metadata": {},
   "outputs": [],
   "source": [
    "print('df_spotify')\n",
    "print(df_spotify.head())\n",
    "print(df_spotify.columns)"
   ]
  },
  {
   "cell_type": "markdown",
   "metadata": {},
   "source": [
    "## Exploring NBA Stats Data"
   ]
  },
  {
   "cell_type": "code",
   "execution_count": null,
   "metadata": {},
   "outputs": [],
   "source": [
    "print('df_nba')\n",
    "print(df_nba_stats.head())\n",
    "print(df_nba_stats.columns)"
   ]
  },
  {
   "cell_type": "markdown",
   "metadata": {},
   "source": [
    "## Further Analysis\n",
    "\n",
    "Add your data analysis code here."
   ]
  }
 ],
 "metadata": {
  "kernelspec": {
   "display_name": "Python 3",
   "language": "python",
   "name": "python3"
  },
  "language_info": {
   "codemirror_mode": {
    "name": "ipython",
    "version": 3
   },
   "file_extension": ".py",
   "mimetype": "text/x-python",
   "name": "python",
   "nbconvert_exporter": "python",
   "pygments_lexer": "ipython3",
   "version": "3.8.10"
  }
 },
 "nbformat": 4,
 "nbformat_minor": 4
}
